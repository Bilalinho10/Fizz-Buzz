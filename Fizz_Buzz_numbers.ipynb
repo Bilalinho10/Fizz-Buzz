{
  "nbformat": 4,
  "nbformat_minor": 0,
  "metadata": {
    "colab": {
      "name": "Fizz Buzz numbers.ipynb",
      "provenance": [],
      "collapsed_sections": []
    },
    "kernelspec": {
      "name": "python3",
      "display_name": "Python 3"
    },
    "language_info": {
      "name": "python"
    }
  },
  "cells": [
    {
      "cell_type": "code",
      "execution_count": null,
      "metadata": {
        "id": "r-13J7H0wA1I"
      },
      "outputs": [],
      "source": [
        "for i in range(101):\n",
        "    \n",
        "    if i % 15 == 0:\n",
        "        print(\"fizzbuzz\")\n",
        "    \n",
        "    elif i % 3 == 0:\n",
        "        print(\"fizz\")\n",
        "    \n",
        "    elif i % 5 == 0:\n",
        "        print(\"buzz\")\n",
        "    else:\n",
        "        print(i)"
      ]
    }
  ]
}